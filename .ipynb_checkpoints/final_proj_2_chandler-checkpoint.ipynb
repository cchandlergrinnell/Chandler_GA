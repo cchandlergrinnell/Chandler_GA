{
 "cells": [
  {
   "cell_type": "markdown",
   "metadata": {},
   "source": [
    "#### Problem Statement:\n",
    "\n",
    "There is a lack of transparancy in the cryptocurrency markets, and as a result currencies are often slow to react. By understanding what drives the returns of currencies, how like ones should behave, and how similar events have played out, we can predict the price movements. "
   ]
  },
  {
   "cell_type": "markdown",
   "metadata": {},
   "source": [
    "#### Hypothesis:\n",
    "By using publically reported data on crypto currencies I can predict returns based on characteristics and like coins. "
   ]
  },
  {
   "cell_type": "markdown",
   "metadata": {},
   "source": [
    "#### Outline: \n",
    "\n",
    "First limit the selection by market cap to limit sample size and remove new currencies and get stable data. Do this by using the coinmarketcap API. \n",
    "\n",
    "Next using the cryptocompare API, we create a database by calling the api on various coins. We then collect the trailing 2000 hours of returns and add it to the current list. Currently, I have hourly data back to July for roughly 300 coins.\n",
    "\n",
    "Use data from cryptocompare API such as description, algorithm, # of coins and market cap to group and figure out what factors make coins successful. \n",
    "\n",
    "Have worked with twitter sentiment model in the past. I may do some of that if there is time, but am not sure how to include it in a time series as that is also a time series. "
   ]
  },
  {
   "cell_type": "markdown",
   "metadata": {},
   "source": [
    "#### Return Data:\n"
   ]
  },
  {
   "cell_type": "markdown",
   "metadata": {},
   "source": [
    "FieldName|Type|Description\n",
    "---------|----|-----------\n",
    "time|datetime|column of historic time or timeseries index\n",
    "crypto_names|float| price in BTC of each crypto currency (300 columns)\n"
   ]
  },
  {
   "cell_type": "markdown",
   "metadata": {},
   "source": [
    "#### Coin Data:"
   ]
  },
  {
   "cell_type": "markdown",
   "metadata": {},
   "source": [
    "FieldName|Type|Description\n",
    "---------|----|-----------\n",
    "General | string | The general data available for this coin\n",
    "Website | string | website URL\n",
    "Features | string | more description\n",
    "Technology | string | technology used\n",
    "TotalCoinSupply | string | total coin amount\n",
    "Algorithm | string | type of algo\n",
    "Twitter |string |twitter address\n",
    "TwitterWidgetId |string |twitter widget by cryptocompare\n",
    "StartDate | string |age of the coin\n",
    "BlockTime | int | time it takes to mine a block\n",
    "Exchanges | int | number of exchanges the coin trades on "
   ]
  },
  {
   "cell_type": "markdown",
   "metadata": {},
   "source": [
    "#### Outstanding questions, assumptions, risks, caveats:\n",
    "\n",
    "I am assuming that the price movements of cryptos is not just a random walk. Some risks are that a coin in my analysis goes away and we cannot use that data, shrinking the dataset further. \n",
    "\n",
    "I also am still trying to figure out a way to get access to data on all the white papers for the coins I am interested in. There could be some interesting ways to explore word choice / language.\n",
    "\n",
    "Another area I am still exploring is country of team.\n",
    "\n",
    "I am also assuming these are executable prices, but they are really just the mean of many exchanges."
   ]
  },
  {
   "cell_type": "markdown",
   "metadata": {},
   "source": [
    "#### specific features or relevant benchmarks from similar projects:\n",
    "\n",
    "There are a few similar projects I have seen. Most projects focus on one exchange or getting a snapshot of one persons portfolio.\n",
    "\n",
    "for historic charts: http://www.cryptocurrencychart.com/\n",
    "\n",
    "pay to use crypto data: https://www.coinigy.com/bitcoin-data/\n",
    "\n",
    "pay to use live data: https://market.mashape.com/bravenewcoin/digital-currency-ex-rates/pricing\n",
    "\n",
    "crycompare library: https://github.com/stefs304/cryCompare\n",
    "\n",
    "crypto analysis: http://www.quantatrisk.com/2017/03/20/download-crypto-currency-time-series-portfolio-python/\n",
    "\n",
    "high frequency crypto model: https://github.com/michaelgrosner/tribeca\n"
   ]
  },
  {
   "cell_type": "markdown",
   "metadata": {},
   "source": [
    "#### Goals and criteria, in order to explain what success looks like:\n",
    "\n",
    "Success would be a working model that would be able to predict price movements and patterns. And potentially would be able to scale up towards newly issued coins. "
   ]
  }
 ],
 "metadata": {
  "kernelspec": {
   "display_name": "Python 2",
   "language": "python",
   "name": "python2"
  },
  "language_info": {
   "codemirror_mode": {
    "name": "ipython",
    "version": 2
   },
   "file_extension": ".py",
   "mimetype": "text/x-python",
   "name": "python",
   "nbconvert_exporter": "python",
   "pygments_lexer": "ipython2",
   "version": "2.7.13"
  }
 },
 "nbformat": 4,
 "nbformat_minor": 2
}
