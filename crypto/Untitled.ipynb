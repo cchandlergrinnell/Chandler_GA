{
 "cells": [
  {
   "cell_type": "code",
   "execution_count": 63,
   "metadata": {},
   "outputs": [
    {
     "ename": "SyntaxError",
     "evalue": "invalid syntax (<ipython-input-63-5172baf95d07>, line 6)",
     "output_type": "error",
     "traceback": [
      "\u001b[0;36m  File \u001b[0;32m\"<ipython-input-63-5172baf95d07>\"\u001b[0;36m, line \u001b[0;32m6\u001b[0m\n\u001b[0;31m    from datetime\u001b[0m\n\u001b[0m                 ^\u001b[0m\n\u001b[0;31mSyntaxError\u001b[0m\u001b[0;31m:\u001b[0m invalid syntax\n"
     ]
    }
   ],
   "source": [
    "import json\n",
    "import ijson\n",
    "import urllib2\n",
    "from bs4 import BeautifulSoup\n",
    "from matplotlib import pyplot as plt\n",
    "from datetime\n",
    "import requests\n",
    "import pandas as pd\n",
    "\n",
    "\n",
    "url = \"https://www.cryptocompare.com/api/data/coinlist/\"\n",
    "response = requests.get(url)\n",
    "soup = BeautifulSoup(response.content, \"html.parser\")\n",
    "dic = json.loads(soup.prettify())\n",
    "df = pd.DataFrame(columns=[\"Ticker\", \"MarketCap\"])\n",
    "\n",
    "filename = dic\n",
    "with open(dic, 'r') as f:\n",
    "    objects = ijson.items(f, 'meta.view.columns.item')\n",
    "    columns = list(objects)\n",
    "for i in dic:\n",
    "    df.loc[len(df)] = [dic[i]['symbol'], dic[i]['market_cap_usd']]\n",
    "columns\n",
    "#df.sort_values(by=['MarketCap'])\n",
    "# apply conversion to numeric as 'df' contains lots of 'None' string as values\n",
    "#df.MarketCap = pd.to_numeric(df.MarketCap)"
   ]
  },
  {
   "cell_type": "code",
   "execution_count": 34,
   "metadata": {},
   "outputs": [
    {
     "data": {
      "text/html": [
       "<div>\n",
       "<style>\n",
       "    .dataframe thead tr:only-child th {\n",
       "        text-align: right;\n",
       "    }\n",
       "\n",
       "    .dataframe thead th {\n",
       "        text-align: left;\n",
       "    }\n",
       "\n",
       "    .dataframe tbody tr th {\n",
       "        vertical-align: top;\n",
       "    }\n",
       "</style>\n",
       "<table border=\"1\" class=\"dataframe\">\n",
       "  <thead>\n",
       "    <tr style=\"text-align: right;\">\n",
       "      <th></th>\n",
       "      <th>tickers</th>\n",
       "    </tr>\n",
       "  </thead>\n",
       "  <tbody>\n",
       "    <tr>\n",
       "      <th>0</th>\n",
       "      <td>007</td>\n",
       "    </tr>\n",
       "    <tr>\n",
       "      <th>1</th>\n",
       "      <td>1337</td>\n",
       "    </tr>\n",
       "    <tr>\n",
       "      <th>2</th>\n",
       "      <td>1CR</td>\n",
       "    </tr>\n",
       "    <tr>\n",
       "      <th>3</th>\n",
       "      <td>1ST</td>\n",
       "    </tr>\n",
       "    <tr>\n",
       "      <th>4</th>\n",
       "      <td>2015</td>\n",
       "    </tr>\n",
       "  </tbody>\n",
       "</table>\n",
       "</div>"
      ],
      "text/plain": [
       "  tickers\n",
       "0     007\n",
       "1    1337\n",
       "2     1CR\n",
       "3     1ST\n",
       "4    2015"
      ]
     },
     "execution_count": 34,
     "metadata": {},
     "output_type": "execute_result"
    }
   ],
   "source": [
    "response = urllib2.urlopen(\"https://www.cryptocompare.com/api/data/coinlist/\")\n",
    "data = json.load(response)   \n",
    "\n",
    "df = pd.DataFrame.from_dict(data)\n",
    "data = df.to_json(orient='index')\n",
    "cryp_list = pd.read_json(data, orient='index')\n",
    "cryp_list = cryp_list.index\n",
    "cryp_list\n",
    "df = pd.DataFrame(cryp_list)\n",
    "df.columns = ['tickers']\n",
    "df.head()"
   ]
  },
  {
   "cell_type": "code",
   "execution_count": 70,
   "metadata": {},
   "outputs": [],
   "source": [
    "def timestamp2date(timestamp):\n",
    "    # function converts a Unix timestamp into Gregorian date\n",
    "    return datetime.fromtimestamp(int(timestamp)).strftime('%Y-%m-%d')\n",
    " \n",
    "def date2timestamp(date):\n",
    "    # function coverts Gregorian date in a given format to timestamp\n",
    "    return datetime.strptime(date_today, '%Y-%m-%d').timestamp()\n",
    " \n",
    " \n",
    "def fetchCryptoOHLC(fsym, tsym):\n",
    "    # function fetches a crypto price-series for fsym/tsym and stores\n",
    "    # it in pandas DataFrame\n",
    " \n",
    "    cols = ['date', 'timestamp', 'open', 'high', 'low', 'close']\n",
    "    lst = ['time', 'open', 'high', 'low', 'close']\n",
    " \n",
    "    timestamp_today = datetime.fromtimestamp().today()\n",
    "    curr_timestamp = timestamp_today\n",
    " \n",
    "    for j in range(2):\n",
    "        df = pd.DataFrame(columns=cols)\n",
    "        url = \"https://min-api.cryptocompare.com/data/histoday?fsym=\" + fsym + \"&tsym=\" + tsym + \"&toTs=\" + str(int(curr_timestamp)) + \"&limit=2000\"\n",
    "        response = requests.get(url)\n",
    "        soup = BeautifulSoup(response.content, \"html.parser\")\n",
    "        dic = json.loads(soup.prettify())\n",
    "        for i in range(1, 2001):\n",
    "            tmp = []\n",
    "            for e in enumerate(lst):\n",
    "                x = e[0]\n",
    "                y = dic['Data'][i][e[1]]\n",
    "                if(x == 0):\n",
    "                    tmp.append(str(timestamp2date(y)))\n",
    "                tmp.append(y)\n",
    "            if(np.sum(tmp[-4::]) > 0):\n",
    "                df.loc[len(df)] = np.array(tmp)\n",
    "        df.index = pd.to_datetime(df.date)\n",
    "        df.drop('date', axis=1, inplace=True)\n",
    "        curr_timestamp = int(df.ix[0][0])\n",
    "        if(j == 0):\n",
    "            df0 = df.copy()\n",
    "        else:\n",
    "            data = pd.concat([df, df0], axis=0)\n",
    " \n",
    "    return data"
   ]
  },
  {
   "cell_type": "code",
   "execution_count": 71,
   "metadata": {},
   "outputs": [
    {
     "ename": "TypeError",
     "evalue": "Required argument 'timestamp' (pos 1) not found",
     "output_type": "error",
     "traceback": [
      "\u001b[0;31m---------------------------------------------------------------------------\u001b[0m",
      "\u001b[0;31mTypeError\u001b[0m                                 Traceback (most recent call last)",
      "\u001b[0;32m<ipython-input-71-43e5d338a413>\u001b[0m in \u001b[0;36m<module>\u001b[0;34m()\u001b[0m\n\u001b[1;32m      1\u001b[0m \u001b[0mfsym\u001b[0m \u001b[0;34m=\u001b[0m \u001b[0;34m\"BTC\"\u001b[0m\u001b[0;34m\u001b[0m\u001b[0m\n\u001b[1;32m      2\u001b[0m \u001b[0mtsym\u001b[0m \u001b[0;34m=\u001b[0m \u001b[0;34m\"USD\"\u001b[0m\u001b[0;34m\u001b[0m\u001b[0m\n\u001b[0;32m----> 3\u001b[0;31m \u001b[0mdata\u001b[0m \u001b[0;34m=\u001b[0m \u001b[0mfetchCryptoOHLC\u001b[0m\u001b[0;34m(\u001b[0m\u001b[0mfsym\u001b[0m\u001b[0;34m,\u001b[0m \u001b[0mtsym\u001b[0m\u001b[0;34m)\u001b[0m\u001b[0;34m\u001b[0m\u001b[0m\n\u001b[0m\u001b[1;32m      4\u001b[0m \u001b[0;34m\u001b[0m\u001b[0m\n\u001b[1;32m      5\u001b[0m \u001b[0;31m# print the BTC/USD OHLC price-series\u001b[0m\u001b[0;34m\u001b[0m\u001b[0;34m\u001b[0m\u001b[0m\n",
      "\u001b[0;32m<ipython-input-70-adf4f09890f8>\u001b[0m in \u001b[0;36mfetchCryptoOHLC\u001b[0;34m(fsym, tsym)\u001b[0m\n\u001b[1;32m     15\u001b[0m     \u001b[0mlst\u001b[0m \u001b[0;34m=\u001b[0m \u001b[0;34m[\u001b[0m\u001b[0;34m'time'\u001b[0m\u001b[0;34m,\u001b[0m \u001b[0;34m'open'\u001b[0m\u001b[0;34m,\u001b[0m \u001b[0;34m'high'\u001b[0m\u001b[0;34m,\u001b[0m \u001b[0;34m'low'\u001b[0m\u001b[0;34m,\u001b[0m \u001b[0;34m'close'\u001b[0m\u001b[0;34m]\u001b[0m\u001b[0;34m\u001b[0m\u001b[0m\n\u001b[1;32m     16\u001b[0m \u001b[0;34m\u001b[0m\u001b[0m\n\u001b[0;32m---> 17\u001b[0;31m     \u001b[0mtimestamp_today\u001b[0m \u001b[0;34m=\u001b[0m \u001b[0mdatetime\u001b[0m\u001b[0;34m.\u001b[0m\u001b[0mfromtimestamp\u001b[0m\u001b[0;34m(\u001b[0m\u001b[0;34m)\u001b[0m\u001b[0;34m.\u001b[0m\u001b[0mtoday\u001b[0m\u001b[0;34m(\u001b[0m\u001b[0;34m)\u001b[0m\u001b[0;34m\u001b[0m\u001b[0m\n\u001b[0m\u001b[1;32m     18\u001b[0m     \u001b[0mcurr_timestamp\u001b[0m \u001b[0;34m=\u001b[0m \u001b[0mtimestamp_today\u001b[0m\u001b[0;34m\u001b[0m\u001b[0m\n\u001b[1;32m     19\u001b[0m \u001b[0;34m\u001b[0m\u001b[0m\n",
      "\u001b[0;31mTypeError\u001b[0m: Required argument 'timestamp' (pos 1) not found"
     ]
    }
   ],
   "source": [
    "fsym = \"BTC\"\n",
    "tsym = \"USD\"\n",
    "data = fetchCryptoOHLC(fsym, tsym)\n",
    " \n",
    "# print the BTC/USD OHLC price-series\n",
    "print(data)\n",
    " \n",
    "# plot them all\n",
    "plt.figure(figsize=(10,4))\n",
    "plt.plot(data.open)\n",
    "plt.plot(data.high)\n",
    "plt.plot(data.low)\n",
    "plt.plot(data.close)\n",
    "plt.legend(loc=2)\n",
    "plt.title(fsym, fontsize=12)\n",
    "plt.ylabel(tsym, fontsize=12)"
   ]
  },
  {
   "cell_type": "code",
   "execution_count": 66,
   "metadata": {},
   "outputs": [
    {
     "name": "stdout",
     "output_type": "stream",
     "text": [
      "2010-07-16 17:00:00\n"
     ]
    }
   ],
   "source": [
    "print datetime.fromtimestamp(int(\"1279324800\")).strftime('%Y-%m-%d %H:%M:%S')\n"
   ]
  },
  {
   "cell_type": "code",
   "execution_count": 64,
   "metadata": {},
   "outputs": [
    {
     "data": {
      "text/plain": [
       "datetime.datetime"
      ]
     },
     "execution_count": 64,
     "metadata": {},
     "output_type": "execute_result"
    }
   ],
   "source": [
    "datetime"
   ]
  },
  {
   "cell_type": "code",
   "execution_count": null,
   "metadata": {
    "collapsed": true
   },
   "outputs": [],
   "source": [
    "const endpoint = 'https://min-api.cryptocompare.com/data/histoday?aggregate=1&e=CCCAGG&extraParams=CryptoCompare&fsym='+ ticker.toUpperCase() +'&limit=365&tryConversion=false&tsym=' + currency.toUpperCase();"
   ]
  }
 ],
 "metadata": {
  "kernelspec": {
   "display_name": "Python 2",
   "language": "python",
   "name": "python2"
  },
  "language_info": {
   "codemirror_mode": {
    "name": "ipython",
    "version": 2
   },
   "file_extension": ".py",
   "mimetype": "text/x-python",
   "name": "python",
   "nbconvert_exporter": "python",
   "pygments_lexer": "ipython2",
   "version": "2.7.13"
  }
 },
 "nbformat": 4,
 "nbformat_minor": 2
}
