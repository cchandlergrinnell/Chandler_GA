{
 "cells": [
  {
   "cell_type": "code",
   "execution_count": 25,
   "metadata": {},
   "outputs": [],
   "source": [
    "import numpy as np\n",
    "import pandas as pd\n",
    "import pandas_datareader.data as web\n",
    "import matplotlib.pyplot as plt\n",
    "import json\n",
    "from bs4 import BeautifulSoup\n",
    "import requests\n",
    "from datetime import datetime, date, time, timedelta\n",
    "import sched\n",
    "import time as mod_time\n",
    "from pandas.io.json import json_normalize\n",
    "from sklearn import preprocessing\n",
    "import scipy.optimize as sco\n",
    "% matplotlib inline\n"
   ]
  },
  {
   "cell_type": "code",
   "execution_count": 26,
   "metadata": {
    "collapsed": true
   },
   "outputs": [],
   "source": [
    "url = \"https://api.coinmarketcap.com/v1/ticker/\"\n",
    "response = requests.get(url)\n",
    "soup = BeautifulSoup(response.content, \"html.parser\")\n",
    "dic = json.loads(soup.prettify())\n",
    "\n",
    "# create an empty DataFrame\n",
    "df = pd.DataFrame(columns=[\"Ticker\", \"MarketCap\"])\n",
    " \n",
    "for i in range(len(dic)):\n",
    "    df.loc[len(df)] = [dic[i]['symbol'], dic[i]['market_cap_usd']]\n",
    " \n",
    "df.sort_values(by=['MarketCap'])\n",
    "P = df.iloc[:400]\n",
    "P.head()\n",
    "tickers = P['Ticker'].tolist()\n",
    "tickers.append('IOTA')"
   ]
  },
  {
   "cell_type": "code",
   "execution_count": 27,
   "metadata": {},
   "outputs": [
    {
     "name": "stdout",
     "output_type": "stream",
     "text": [
      "69\n",
      "MIOTA\n",
      "GXS\n",
      "ACT\n"
     ]
    }
   ],
   "source": [
    "#https://min-api.cryptocompare.com/data/histoday?fsym=BTC&tsym=USD&limit=60&aggregate=3&e=CCCAGG,\n",
    "fysm = 'BTC'\n",
    "tsym = 'USD'\n",
    "d = json.loads(requests.get('https://min-api.cryptocompare.com/data/histohour?fsym=%s&tsym=%s&limit=6000&aggregate=1' % (fysm ,tsym)).text)\n",
    "json_normalize(d)\n",
    "df_BTC = pd.DataFrame(d['Data'])\n",
    "#df_BTC['time'] =  pd.to_datetime(df_BTC['time'],unit='s')\n",
    "df_BTC.set_index('time', drop=False, inplace=True)\n",
    "df_BTC['BTC'] = df_BTC['close']\n",
    "df_BTC = df_BTC[['BTC', 'time']] \n",
    "\n",
    "#df['time'] =  pd.to_datetime(df['time'],unit='s')\n",
    "adding = 68\n",
    "count = 0\n",
    "\n",
    "for fysm in tickers: \n",
    "    if fysm == 'BTC':\n",
    "        adding += 1\n",
    "        print adding\n",
    "    else:\n",
    "        try:\n",
    "            d = json.loads(requests.get('https://min-api.cryptocompare.com/data/histohour?fsym=%s&tsym=%s&limit=6000&aggregate=1' % (fysm, 'USD')).text)\n",
    "            json_normalize(d)\n",
    "            df = pd.DataFrame(d['Data'])\n",
    "            df.set_index('time', drop=True, inplace=True)\n",
    "            df_BTC[fysm] = df['close']\n",
    "        except:\n",
    "            print fysm\n",
    "            continue\n",
    "    \n",
    "\n",
    "df_BTC.head()\n",
    "df_BTC['time'] =  pd.to_datetime(df_BTC['time'],unit='s')\n",
    "df_BTC.set_index('time', drop=True, inplace=True)"
   ]
  },
  {
   "cell_type": "code",
   "execution_count": 81,
   "metadata": {},
   "outputs": [],
   "source": [
    "df = df_BTC.loc[:, (df_BTC != 0).any(axis=0)]\n",
    "df = df.pct_change(12)[12:]\n",
    "\n",
    "df = df.loc[:,(df.applymap(lambda x: x < 10).all(axis=0) == True)]\n"
   ]
  },
  {
   "cell_type": "code",
   "execution_count": 82,
   "metadata": {},
   "outputs": [],
   "source": [
    "#list of stocks in portfolio\n",
    "stocks = df.columns\n",
    " \n",
    "#download daily price data for each of the stocks in the portfolio\n",
    "#data = web.DataReader(stocks,data_source='yahoo',start='01/01/2010')['Adj Close']"
   ]
  },
  {
   "cell_type": "code",
   "execution_count": 83,
   "metadata": {},
   "outputs": [],
   "source": [
    " \n",
    "#convert daily stock prices into daily returns\n",
    "returns = df\n"
   ]
  },
  {
   "cell_type": "code",
   "execution_count": 84,
   "metadata": {},
   "outputs": [
    {
     "data": {
      "text/plain": [
       "array([[ 0.,  0.,  0., ...,  0.,  0.,  0.],\n",
       "       [ 0.,  0.,  0., ...,  0.,  0.,  0.],\n",
       "       [ 0.,  0.,  0., ...,  0.,  0.,  0.],\n",
       "       ..., \n",
       "       [ 0.,  0.,  0., ...,  0.,  0.,  0.],\n",
       "       [ 0.,  0.,  0., ...,  0.,  0.,  0.],\n",
       "       [ 0.,  0.,  0., ...,  0.,  0.,  0.]])"
      ]
     },
     "execution_count": 84,
     "metadata": {},
     "output_type": "execute_result"
    }
   ],
   "source": [
    "#calculate mean daily return and covariance of daily returns\n",
    "mean_daily_returns = returns.mean()\n",
    "cov_matrix = returns.cov()\n",
    "#set number of runs of random portfolio weights\n",
    "num_portfolios = 25000\n",
    " \n",
    "#set up array to hold results\n",
    "#We have increased the size of the array to hold the weight values for each stock\n",
    "results = np.zeros((4+len(df.columns)-1,num_portfolios))\n",
    "results"
   ]
  },
  {
   "cell_type": "code",
   "execution_count": 89,
   "metadata": {},
   "outputs": [],
   "source": [
    "\n",
    "\n",
    " \n",
    "\n",
    "\n",
    "for i in xrange(num_portfolios):\n",
    "    #select random weights for portfolio holdings\n",
    "    weights = np.array(np.random.random(len(df.columns)))\n",
    "    #rebalance weights to sum to 1\n",
    "    weights /= np.sum(weights)\n",
    " \n",
    "    #calculate portfolio return and volatility\n",
    "    portfolio_return = np.sum(mean_daily_returns * weights) * 365 * 2\n",
    "    portfolio_std_dev = np.sqrt(np.dot(weights.T,np.dot(cov_matrix, weights))) * np.sqrt(365 * 2)\n",
    " \n",
    "    #store results in results array\n",
    "    results[0,i] = portfolio_return\n",
    "    results[1,i] = portfolio_std_dev\n",
    "    #store Sharpe Ratio (return / volatility) - risk free rate element excluded for simplicity\n",
    "    results[2,i] = results[0,i] / results[1,i]\n",
    "    #iterate through the weight vector and add data to results array\n",
    "    for j in range(len(weights)):\n",
    "        results[j+3,i] = weights[j]\n",
    "\n"
   ]
  },
  {
   "cell_type": "code",
   "execution_count": 86,
   "metadata": {},
   "outputs": [
    {
     "data": {
      "text/plain": [
       "<matplotlib.collections.PathCollection at 0x1a2796b350>"
      ]
     },
     "execution_count": 86,
     "metadata": {},
     "output_type": "execute_result"
    },
    {
     "data": {
      "image/png": "[encoded data removed]",
      "text/plain": [
       "<matplotlib.figure.Figure at 0x1a260c3ed0>"
      ]
     },
     "metadata": {},
     "output_type": "display_data"
    }
   ],
   "source": [
    "cols = ['ret','stdev','sharpe']\n",
    "for i in stocks:\n",
    "    cols.append(i)\n",
    "cols\n",
    "# convert results array to Pandas DataFrame\n",
    "results_frame = pd.DataFrame(results.T,columns=[cols])\n",
    " \n",
    "#locate position of portfolio with highest Sharpe Ratio\n",
    "max_sharpe_port = results_frame.iloc[results_frame['sharpe'].idxmax()]\n",
    "#locate positon of portfolio with minimum standard deviation\n",
    "min_vol_port = results_frame.iloc[results_frame['stdev'].idxmin()]\n",
    " \n",
    "#create scatter plot coloured by Sharpe Ratio\n",
    "plt.scatter(results_frame.stdev,results_frame.ret,c=results_frame.sharpe,cmap='RdYlBu')\n",
    "plt.xlabel('Volatility')\n",
    "plt.ylabel('Returns')\n",
    "plt.colorbar()\n",
    "#plot red star to highlight position of portfolio with highest Sharpe Ratio\n",
    "plt.scatter(max_sharpe_port[1],max_sharpe_port[0],marker=(5,1,0),color='r',s=1000)\n",
    "#plot green star to highlight position of minimum variance portfolio\n",
    "plt.scatter(min_vol_port[1],min_vol_port[0],marker=(5,1,0),color='g',s=100)"
   ]
  },
  {
   "cell_type": "code",
   "execution_count": null,
   "metadata": {},
   "outputs": [],
   "source": []
  },
  {
   "cell_type": "code",
   "execution_count": null,
   "metadata": {
    "collapsed": true
   },
   "outputs": [],
   "source": []
  }
 ],
 "metadata": {
  "kernelspec": {
   "display_name": "Python 2",
   "language": "python",
   "name": "python2"
  },
  "language_info": {
   "codemirror_mode": {
    "name": "ipython",
    "version": 2
   },
   "file_extension": ".py",
   "mimetype": "text/x-python",
   "name": "python",
   "nbconvert_exporter": "python",
   "pygments_lexer": "ipython2",
   "version": "2.7.13"
  }
 },
 "nbformat": 4,
 "nbformat_minor": 2
}
