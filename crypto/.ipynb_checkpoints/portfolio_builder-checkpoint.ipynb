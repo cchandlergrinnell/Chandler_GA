{
 "cells": [
  {
   "cell_type": "code",
   "execution_count": 1,
   "metadata": {},
   "outputs": [
    {
     "name": "stderr",
     "output_type": "stream",
     "text": [
      "/Users/chandler/anaconda2/lib/python2.7/site-packages/statsmodels/compat/pandas.py:56: FutureWarning: The pandas.core.datetools module is deprecated and will be removed in a future version. Please use the pandas.tseries module instead.\n",
      "  from pandas.core import datetools\n"
     ]
    }
   ],
   "source": [
    "import pandas as pd\n",
    "import numpy as np\n",
    "import matplotlib.pyplot as plt\n",
    "import seaborn as sns\n",
    "from statsmodels.graphics.tsaplots import plot_acf\n",
    "sns.set(style=\"darkgrid\")\n",
    "%matplotlib inline"
   ]
  },
  {
   "cell_type": "code",
   "execution_count": 16,
   "metadata": {},
   "outputs": [
    {
     "data": {
      "text/html": [
       "<div>\n",
       "<style>\n",
       "    .dataframe thead tr:only-child th {\n",
       "        text-align: right;\n",
       "    }\n",
       "\n",
       "    .dataframe thead th {\n",
       "        text-align: left;\n",
       "    }\n",
       "\n",
       "    .dataframe tbody tr th {\n",
       "        vertical-align: top;\n",
       "    }\n",
       "</style>\n",
       "<table border=\"1\" class=\"dataframe\">\n",
       "  <thead>\n",
       "    <tr style=\"text-align: right;\">\n",
       "      <th></th>\n",
       "      <th>BTC</th>\n",
       "      <th>ETH</th>\n",
       "      <th>XRP</th>\n",
       "      <th>BCH</th>\n",
       "      <th>LTC</th>\n",
       "      <th>DASH</th>\n",
       "      <th>XEM</th>\n",
       "      <th>NEO</th>\n",
       "      <th>XMR</th>\n",
       "      <th>ETC</th>\n",
       "      <th>...</th>\n",
       "      <th>BITB</th>\n",
       "      <th>EXCL</th>\n",
       "      <th>HTML5</th>\n",
       "      <th>EQT</th>\n",
       "      <th>CURE</th>\n",
       "      <th>IOP</th>\n",
       "      <th>NOTE</th>\n",
       "      <th>DYN</th>\n",
       "      <th>TRUST</th>\n",
       "      <th>ABY</th>\n",
       "    </tr>\n",
       "    <tr>\n",
       "      <th>time</th>\n",
       "      <th></th>\n",
       "      <th></th>\n",
       "      <th></th>\n",
       "      <th></th>\n",
       "      <th></th>\n",
       "      <th></th>\n",
       "      <th></th>\n",
       "      <th></th>\n",
       "      <th></th>\n",
       "      <th></th>\n",
       "      <th></th>\n",
       "      <th></th>\n",
       "      <th></th>\n",
       "      <th></th>\n",
       "      <th></th>\n",
       "      <th></th>\n",
       "      <th></th>\n",
       "      <th></th>\n",
       "      <th></th>\n",
       "      <th></th>\n",
       "      <th></th>\n",
       "    </tr>\n",
       "  </thead>\n",
       "  <tbody>\n",
       "    <tr>\n",
       "      <th>2017-08-21 05:00:00</th>\n",
       "      <td>-0.022584</td>\n",
       "      <td>0.081423</td>\n",
       "      <td>0.002857</td>\n",
       "      <td>0.007593</td>\n",
       "      <td>-0.000879</td>\n",
       "      <td>0.016809</td>\n",
       "      <td>-0.017665</td>\n",
       "      <td>-0.050527</td>\n",
       "      <td>-0.020588</td>\n",
       "      <td>0.003791</td>\n",
       "      <td>...</td>\n",
       "      <td>0.161765</td>\n",
       "      <td>-0.214703</td>\n",
       "      <td>1.0</td>\n",
       "      <td>0.0</td>\n",
       "      <td>-0.004367</td>\n",
       "      <td>-0.012698</td>\n",
       "      <td>0.045045</td>\n",
       "      <td>-0.021216</td>\n",
       "      <td>-0.122106</td>\n",
       "      <td>-0.021053</td>\n",
       "    </tr>\n",
       "    <tr>\n",
       "      <th>2017-08-21 06:00:00</th>\n",
       "      <td>-0.032604</td>\n",
       "      <td>0.118066</td>\n",
       "      <td>0.019428</td>\n",
       "      <td>-0.016929</td>\n",
       "      <td>0.008865</td>\n",
       "      <td>0.028023</td>\n",
       "      <td>-0.018125</td>\n",
       "      <td>-0.025236</td>\n",
       "      <td>0.001515</td>\n",
       "      <td>0.028690</td>\n",
       "      <td>...</td>\n",
       "      <td>-0.107143</td>\n",
       "      <td>-0.084021</td>\n",
       "      <td>0.0</td>\n",
       "      <td>0.0</td>\n",
       "      <td>-0.021837</td>\n",
       "      <td>-0.008706</td>\n",
       "      <td>0.031697</td>\n",
       "      <td>-0.015602</td>\n",
       "      <td>-0.123529</td>\n",
       "      <td>-0.005376</td>\n",
       "    </tr>\n",
       "    <tr>\n",
       "      <th>2017-08-21 07:00:00</th>\n",
       "      <td>-0.029767</td>\n",
       "      <td>0.100378</td>\n",
       "      <td>0.026323</td>\n",
       "      <td>-0.061471</td>\n",
       "      <td>0.009786</td>\n",
       "      <td>0.002531</td>\n",
       "      <td>-0.009507</td>\n",
       "      <td>-0.076956</td>\n",
       "      <td>0.279731</td>\n",
       "      <td>0.025283</td>\n",
       "      <td>...</td>\n",
       "      <td>-0.316327</td>\n",
       "      <td>0.174538</td>\n",
       "      <td>0.0</td>\n",
       "      <td>0.0</td>\n",
       "      <td>0.005654</td>\n",
       "      <td>-0.032960</td>\n",
       "      <td>0.007960</td>\n",
       "      <td>0.027808</td>\n",
       "      <td>-0.131030</td>\n",
       "      <td>-0.031579</td>\n",
       "    </tr>\n",
       "    <tr>\n",
       "      <th>2017-08-21 08:00:00</th>\n",
       "      <td>-0.013811</td>\n",
       "      <td>0.094719</td>\n",
       "      <td>0.009595</td>\n",
       "      <td>-0.089674</td>\n",
       "      <td>-0.007061</td>\n",
       "      <td>0.008607</td>\n",
       "      <td>-0.046082</td>\n",
       "      <td>-0.067407</td>\n",
       "      <td>0.540763</td>\n",
       "      <td>0.021043</td>\n",
       "      <td>...</td>\n",
       "      <td>-0.244444</td>\n",
       "      <td>0.111232</td>\n",
       "      <td>0.0</td>\n",
       "      <td>0.0</td>\n",
       "      <td>0.025136</td>\n",
       "      <td>-0.017067</td>\n",
       "      <td>-0.018627</td>\n",
       "      <td>-0.020842</td>\n",
       "      <td>-0.201734</td>\n",
       "      <td>-0.021277</td>\n",
       "    </tr>\n",
       "    <tr>\n",
       "      <th>2017-08-21 09:00:00</th>\n",
       "      <td>-0.014801</td>\n",
       "      <td>0.086387</td>\n",
       "      <td>-0.014960</td>\n",
       "      <td>-0.115966</td>\n",
       "      <td>-0.003546</td>\n",
       "      <td>-0.013870</td>\n",
       "      <td>-0.039839</td>\n",
       "      <td>-0.080645</td>\n",
       "      <td>0.574644</td>\n",
       "      <td>0.006497</td>\n",
       "      <td>...</td>\n",
       "      <td>-0.116883</td>\n",
       "      <td>0.077006</td>\n",
       "      <td>0.0</td>\n",
       "      <td>0.0</td>\n",
       "      <td>0.003777</td>\n",
       "      <td>-0.015277</td>\n",
       "      <td>-0.031220</td>\n",
       "      <td>0.010526</td>\n",
       "      <td>-0.219298</td>\n",
       "      <td>-0.010811</td>\n",
       "    </tr>\n",
       "  </tbody>\n",
       "</table>\n",
       "<p>5 rows × 202 columns</p>\n",
       "</div>"
      ],
      "text/plain": [
       "                          BTC       ETH       XRP       BCH       LTC  \\\n",
       "time                                                                    \n",
       "2017-08-21 05:00:00 -0.022584  0.081423  0.002857  0.007593 -0.000879   \n",
       "2017-08-21 06:00:00 -0.032604  0.118066  0.019428 -0.016929  0.008865   \n",
       "2017-08-21 07:00:00 -0.029767  0.100378  0.026323 -0.061471  0.009786   \n",
       "2017-08-21 08:00:00 -0.013811  0.094719  0.009595 -0.089674 -0.007061   \n",
       "2017-08-21 09:00:00 -0.014801  0.086387 -0.014960 -0.115966 -0.003546   \n",
       "\n",
       "                         DASH       XEM       NEO       XMR       ETC  \\\n",
       "time                                                                    \n",
       "2017-08-21 05:00:00  0.016809 -0.017665 -0.050527 -0.020588  0.003791   \n",
       "2017-08-21 06:00:00  0.028023 -0.018125 -0.025236  0.001515  0.028690   \n",
       "2017-08-21 07:00:00  0.002531 -0.009507 -0.076956  0.279731  0.025283   \n",
       "2017-08-21 08:00:00  0.008607 -0.046082 -0.067407  0.540763  0.021043   \n",
       "2017-08-21 09:00:00 -0.013870 -0.039839 -0.080645  0.574644  0.006497   \n",
       "\n",
       "                       ...         BITB      EXCL  HTML5  EQT      CURE  \\\n",
       "time                   ...                                                \n",
       "2017-08-21 05:00:00    ...     0.161765 -0.214703    1.0  0.0 -0.004367   \n",
       "2017-08-21 06:00:00    ...    -0.107143 -0.084021    0.0  0.0 -0.021837   \n",
       "2017-08-21 07:00:00    ...    -0.316327  0.174538    0.0  0.0  0.005654   \n",
       "2017-08-21 08:00:00    ...    -0.244444  0.111232    0.0  0.0  0.025136   \n",
       "2017-08-21 09:00:00    ...    -0.116883  0.077006    0.0  0.0  0.003777   \n",
       "\n",
       "                          IOP      NOTE       DYN     TRUST       ABY  \n",
       "time                                                                   \n",
       "2017-08-21 05:00:00 -0.012698  0.045045 -0.021216 -0.122106 -0.021053  \n",
       "2017-08-21 06:00:00 -0.008706  0.031697 -0.015602 -0.123529 -0.005376  \n",
       "2017-08-21 07:00:00 -0.032960  0.007960  0.027808 -0.131030 -0.031579  \n",
       "2017-08-21 08:00:00 -0.017067 -0.018627 -0.020842 -0.201734 -0.021277  \n",
       "2017-08-21 09:00:00 -0.015277 -0.031220  0.010526 -0.219298 -0.010811  \n",
       "\n",
       "[5 rows x 202 columns]"
      ]
     },
     "execution_count": 16,
     "metadata": {},
     "output_type": "execute_result"
    }
   ],
   "source": [
    "data = pd.read_excel('returns_OCT.xlsx', index_col='time')\n",
    "\n",
    "p_len = 12\n",
    "df = data.pct_change(p_len)\n",
    "df = df.iloc[p_len:]\n",
    "\n",
    "rets = df.loc[:,(df.applymap(lambda x: x < 5).all(axis=0) == True)]\n",
    "rets.head()"
   ]
  },
  {
   "cell_type": "code",
   "execution_count": 26,
   "metadata": {},
   "outputs": [],
   "source": [
    "symbols = rets.columns\n",
    "noa = len(symbols)"
   ]
  },
  {
   "cell_type": "code",
   "execution_count": 29,
   "metadata": {},
   "outputs": [
    {
     "data": {
      "text/plain": [
       "202"
      ]
     },
     "execution_count": 29,
     "metadata": {},
     "output_type": "execute_result"
    }
   ],
   "source": [
    "weights = np.random.random(noa)\n",
    "weights /= np.sum(weights)\n",
    "len(weights)"
   ]
  },
  {
   "cell_type": "code",
   "execution_count": 30,
   "metadata": {},
   "outputs": [
    {
     "data": {
      "text/plain": [
       "1.5812528495131766"
      ]
     },
     "execution_count": 30,
     "metadata": {},
     "output_type": "execute_result"
    }
   ],
   "source": [
    "np.sum(rets.mean() * weights) * 252 * 2"
   ]
  },
  {
   "cell_type": "code",
   "execution_count": 34,
   "metadata": {},
   "outputs": [
    {
     "data": {
      "text/plain": [
       "0.36270632826420934"
      ]
     },
     "execution_count": 34,
     "metadata": {},
     "output_type": "execute_result"
    }
   ],
   "source": [
    "np.dot(weights.transpose(), np.dot(rets.cov() * 252 * 2, weights))"
   ]
  },
  {
   "cell_type": "code",
   "execution_count": 35,
   "metadata": {
    "collapsed": true
   },
   "outputs": [],
   "source": [
    "prets = []\n",
    "pvols = []\n",
    "\n",
    "for p in range(2500):\n",
    "    weights = np.random.random(noa)\n",
    "    weights /= np.sum(weights)\n",
    "    prets.append(np.sum(rets.mean() * weights) * 252 * 2)\n",
    "    pvols.append(np.dot(weights.transpose(), np.dot(rets.cov() * 252 * 2, weights)))\n",
    "prets = np.array(prets)\n",
    "pvols = np.array(pvols)\n"
   ]
  },
  {
   "cell_type": "code",
   "execution_count": 38,
   "metadata": {
    "scrolled": true
   },
   "outputs": [
    {
     "data": {
      "text/plain": [
       "<matplotlib.colorbar.Colorbar at 0x1c22aee690>"
      ]
     },
     "execution_count": 38,
     "metadata": {},
     "output_type": "execute_result"
    },
    {
     "data": {
      "image/png": "[encoded data removed]",
      "text/plain": [
       "<matplotlib.figure.Figure at 0x1c18ccccd0>"
      ]
     },
     "metadata": {},
     "output_type": "display_data"
    }
   ],
   "source": [
    "plt.figure(figsize=(8, 4))\n",
    "plt.scatter(pvols, prets, c= prets / pvols, marker='o')\n",
    "plt.grid(True)\n",
    "plt.xlabel('expected vol')\n",
    "plt.ylabel('expected return')\n",
    "plt.colorbar(label='Sharpe')"
   ]
  },
  {
   "cell_type": "markdown",
   "metadata": {},
   "source": [
    "#### Optimize time"
   ]
  },
  {
   "cell_type": "code",
   "execution_count": 40,
   "metadata": {
    "collapsed": true
   },
   "outputs": [],
   "source": [
    "import scipy.optimize as sco"
   ]
  },
  {
   "cell_type": "code",
   "execution_count": 90,
   "metadata": {
    "collapsed": true
   },
   "outputs": [],
   "source": [
    "def statistics(weights):\n",
    "    ''' Returns portfolio statistics\n",
    "    \n",
    "    Parameters\n",
    "    ==========\n",
    "    weights : array-like\n",
    "        weights for diffeerent securities in portfolio\n",
    "    \n",
    "    Returns\n",
    "    =========\n",
    "    pret: float\n",
    "        expected portfolio return\n",
    "    pvol : float\n",
    "        expected portfolio vol\n",
    "    pret / pvol : float\n",
    "        Sharpe ratio for rf=0\n",
    "    \n",
    "    '''\n",
    "    weights = np.array(weights)\n",
    "    pret = np.sum(rets.mean() * weights) * 252 * 2\n",
    "    pvol = np.dot(weights.transpose(), np.dot(rets.cov() * 252 * 2, weights))\n",
    "    return np.array([pret, pvol, pret / pvol])\n",
    "\n",
    "def min_func_sharpe(weights):\n",
    "    '''minimizes the negative value of the sharpe ratio'''\n",
    "    return -statistics(weights)[2]\n",
    "\n",
    "def min_func_variance(weights):\n",
    "    return statistics(weights)[1] ** 2\n",
    "\n",
    "def min_func_port(weights):\n",
    "    return statistics(weights)[1]"
   ]
  },
  {
   "cell_type": "code",
   "execution_count": 77,
   "metadata": {},
   "outputs": [],
   "source": [
    "#'''all weights add up to one'''\n",
    "\n",
    "cons = ({'type': 'eq', 'fun': lambda x: np.sum(x) - 1})\n",
    "\n",
    "# parameter values must be within 0 and 1\n",
    "bnds = tuple((0, 1) for x in range(noa))\n",
    "\n",
    "# equal distribution for starting point\n",
    "equalweight = noa * [1. / noa]"
   ]
  },
  {
   "cell_type": "markdown",
   "metadata": {},
   "source": [
    "### Maximize Sharpe"
   ]
  },
  {
   "cell_type": "code",
   "execution_count": 78,
   "metadata": {
    "collapsed": true
   },
   "outputs": [],
   "source": [
    "opts = sco.minimize(min_func_sharpe, noa * [1. / noa,], method='SLSQP',\n",
    "                   bounds=bnds, constraints=cons)"
   ]
  },
  {
   "cell_type": "code",
   "execution_count": 85,
   "metadata": {},
   "outputs": [],
   "source": [
    "ropts = opts['x'].round(3)\n",
    "ropts = ropts / np.sum(ropts)"
   ]
  },
  {
   "cell_type": "code",
   "execution_count": 80,
   "metadata": {
    "scrolled": true
   },
   "outputs": [
    {
     "data": {
      "text/plain": [
       "array([  4.31288909e-01,   1.33435738e-03,   3.23218439e+02])"
      ]
     },
     "execution_count": 80,
     "metadata": {},
     "output_type": "execute_result"
    }
   ],
   "source": [
    "statistics(y)"
   ]
  },
  {
   "cell_type": "markdown",
   "metadata": {},
   "source": [
    "### Minimizing the variance\n",
    "\n"
   ]
  },
  {
   "cell_type": "code",
   "execution_count": 81,
   "metadata": {},
   "outputs": [],
   "source": [
    "optv = sco.minimize(min_func_variance, noa * [1. / noa,], method='SLSQP',\n",
    "                   bounds=bnds, constraints=cons)"
   ]
  },
  {
   "cell_type": "code",
   "execution_count": 82,
   "metadata": {},
   "outputs": [
    {
     "data": {
      "text/plain": [
       "     fun: 1.1389859072546512e-05\n",
       "     jac: array([  2.20965012e-04,   1.33176643e-05,   7.41648913e-05,\n",
       "        -1.90455478e-05,   9.06506830e-06,  -9.93752246e-06,\n",
       "         2.36321009e-05,   3.03151094e-05,  -1.61323492e-05,\n",
       "        -2.31496958e-05,   5.40133500e-05,   1.13467578e-04,\n",
       "         5.03921061e-05,  -9.07162769e-06,   5.01042234e-05,\n",
       "        -5.72108879e-05,   8.23526768e-05,   4.36980330e-05,\n",
       "        -2.36675376e-05,   6.12495127e-05,   4.67744078e-05,\n",
       "         1.21509271e-04,  -3.97825046e-05,  -3.44933235e-05,\n",
       "         5.38340363e-05,   2.54688343e-05,   1.79457709e-05,\n",
       "         7.36639123e-05,   4.56275113e-05,  -6.87887585e-05,\n",
       "         2.69051179e-05,   4.68069757e-05,   1.10143962e-04,\n",
       "         8.82317522e-05,   1.05167667e-04,   2.32258230e-06,\n",
       "         1.40640355e-04,  -1.41034923e-05,   4.68496845e-05,\n",
       "        -3.59635476e-06,   2.28580714e-04,  -8.22067761e-06,\n",
       "         8.04441128e-05,   1.38875661e-04,   2.50656589e-05,\n",
       "         4.50919800e-05,   6.43131700e-05,   4.67109119e-05,\n",
       "         4.43695437e-05,   5.40976781e-05,   4.91914341e-05,\n",
       "         2.10648130e-05,   1.08665156e-04,  -8.97686584e-06,\n",
       "         1.26906946e-04,   3.17895383e-05,   1.09953978e-04,\n",
       "         1.17245976e-04,   3.93245585e-05,   4.27591885e-05,\n",
       "         1.58259850e-04,   1.01131871e-04,   3.20370501e-05,\n",
       "         5.85189425e-05,   7.15568448e-05,   8.53998855e-05,\n",
       "         2.08220295e-05,   3.01347834e-04,   1.49950951e-04,\n",
       "         1.97480717e-05,   3.87606985e-06,   4.78913099e-05,\n",
       "         5.63172135e-05,   5.31789134e-05,   1.86515422e-05,\n",
       "         1.16380700e-04,   1.45479490e-04,   5.03463742e-05,\n",
       "        -3.33342025e-05,   1.14311420e-04,   7.22875398e-05,\n",
       "         4.92683181e-05,   7.25573364e-05,   1.53338398e-05,\n",
       "         4.47830921e-05,   5.75993406e-05,   8.63566116e-05,\n",
       "         5.62112264e-05,   6.91662681e-05,   1.88863514e-04,\n",
       "         2.77298431e-05,   7.17790015e-05,   5.27761185e-05,\n",
       "         2.80710228e-05,  -2.24944105e-05,   3.90613912e-05,\n",
       "         6.45424491e-05,   5.68008237e-05,   4.19459103e-05,\n",
       "        -1.23134424e-04,   5.13937678e-05,   0.00000000e+00,\n",
       "         5.52342999e-05,   6.31945672e-05,   4.91598749e-05,\n",
       "         4.89441391e-05,   4.81809938e-05,   6.64886352e-06,\n",
       "         7.87157923e-05,   7.85356551e-05,   4.21775615e-04,\n",
       "         1.18785624e-05,  -2.83609631e-05,   4.80470334e-05,\n",
       "         1.25513358e-05,  -7.04081726e-05,  -8.74372040e-06,\n",
       "         1.11109503e-04,   1.01746639e-04,   1.12094966e-05,\n",
       "         6.52585293e-05,   2.50310239e-05,   1.18642243e-04,\n",
       "         9.20242844e-05,   1.18556557e-04,   1.03797801e-04,\n",
       "         1.57040063e-06,   7.78583421e-06,   3.19534348e-05,\n",
       "         1.97119244e-05,   4.19239147e-04,   1.61713002e-05,\n",
       "         4.05770671e-05,  -2.97095849e-05,   4.51190480e-05,\n",
       "        -6.71341229e-05,  -5.23749411e-05,  -6.32438035e-05,\n",
       "         2.51041200e-04,   2.38727407e-05,  -6.91740033e-05,\n",
       "        -1.11048521e-05,   7.09169452e-05,   1.27805845e-04,\n",
       "         1.37151074e-04,   2.66958766e-05,   9.16796661e-05,\n",
       "         4.36161689e-05,  -3.65381483e-05,   3.87530547e-05,\n",
       "         1.33653144e-04,   2.30086113e-05,   1.09491674e-04,\n",
       "         9.70852524e-05,   1.57392481e-06,   7.29333192e-05,\n",
       "         3.93159814e-06,   2.16209958e-04,   2.76197125e-05,\n",
       "        -4.04060756e-07,   1.03021168e-04,   1.10351420e-04,\n",
       "        -1.15009022e-05,   9.79262859e-06,  -4.18959479e-05,\n",
       "         1.82612155e-05,   6.99734990e-05,   9.33696895e-05,\n",
       "         1.12356276e-04,  -3.08202493e-04,   5.77075067e-05,\n",
       "         2.02601835e-05,  -6.53803307e-05,   1.23161415e-04,\n",
       "         9.23673285e-05,   3.55653868e-05,   0.00000000e+00,\n",
       "         2.96636340e-05,  -1.20501679e-05,   3.27527955e-05,\n",
       "         3.13383093e-05,  -7.80166567e-05,   8.48864911e-05,\n",
       "         1.01829792e-04,   7.74857082e-05,   5.76700180e-05,\n",
       "        -1.55428288e-05,   1.48337504e-05,  -1.57140896e-04,\n",
       "        -2.32894604e-06,   5.85474830e-05,   7.39964489e-05,\n",
       "         6.55667163e-05,   6.83768782e-05,   4.12749396e-05,\n",
       "         1.32466100e-04,  -4.55733925e-06,   3.52483581e-05,\n",
       "         2.15771198e-05,   6.37043661e-06,   5.06277906e-05,\n",
       "         3.58907465e-05])\n",
       " message: 'Optimization terminated successfully.'\n",
       "    nfev: 3880\n",
       "     nit: 19\n",
       "    njev: 19\n",
       "  status: 0\n",
       " success: True\n",
       "       x: array([  2.56457683e-01,   1.10963230e-04,   6.79490689e-03,\n",
       "         1.28071382e-18,   8.80914265e-20,   2.55113937e-03,\n",
       "         4.83655813e-19,   0.00000000e+00,   4.80192735e-04,\n",
       "         1.87392943e-03,   6.83132072e-19,   3.62530101e-19,\n",
       "         3.18484388e-19,   0.00000000e+00,   1.42301535e-19,\n",
       "         2.15838989e-01,   0.00000000e+00,   0.00000000e+00,\n",
       "         2.30278857e-05,   0.00000000e+00,   0.00000000e+00,\n",
       "         2.87567686e-19,   7.45388994e-20,   0.00000000e+00,\n",
       "         0.00000000e+00,   0.00000000e+00,   2.40557357e-19,\n",
       "         1.50716981e-03,   1.35525272e-20,   3.68035994e-04,\n",
       "         6.14098887e-20,   3.38813179e-20,   1.67289007e-19,\n",
       "         0.00000000e+00,   2.91802850e-19,   0.00000000e+00,\n",
       "         2.30392962e-19,   1.46113183e-19,   3.74801358e-03,\n",
       "         5.42101086e-20,   3.76929662e-20,   0.00000000e+00,\n",
       "         3.38813179e-20,   1.75335820e-19,   0.00000000e+00,\n",
       "         0.00000000e+00,   1.14349448e-19,   4.82824355e-04,\n",
       "         0.00000000e+00,   4.06575815e-20,   1.42301535e-19,\n",
       "         9.47464380e-05,   9.48676901e-20,   0.00000000e+00,\n",
       "         0.00000000e+00,   0.00000000e+00,   6.05628557e-20,\n",
       "         6.42123733e-04,   0.00000000e+00,   3.40083728e-19,\n",
       "         0.00000000e+00,   8.80914265e-20,   0.00000000e+00,\n",
       "         4.95394504e-03,   0.00000000e+00,   2.37169225e-20,\n",
       "         2.03287907e-20,   0.00000000e+00,   0.00000000e+00,\n",
       "         0.00000000e+00,   6.23451538e-05,   0.00000000e+00,\n",
       "         4.74338450e-20,   5.42101086e-20,   5.42101086e-20,\n",
       "         1.21972744e-19,   4.26904605e-19,   6.77626358e-21,\n",
       "         8.81666640e-05,   5.46509931e-03,   0.00000000e+00,\n",
       "         1.16467030e-19,   1.95156391e-18,   0.00000000e+00,\n",
       "         6.77626358e-21,   8.80914265e-20,   5.39559987e-19,\n",
       "         4.74338450e-20,   5.04107428e-05,   1.20520233e-03,\n",
       "         4.44692297e-20,   2.64274280e-19,   6.64073831e-19,\n",
       "         0.00000000e+00,   0.00000000e+00,   1.35525272e-20,\n",
       "         2.37169225e-19,   0.00000000e+00,   0.00000000e+00,\n",
       "         0.00000000e+00,   4.06575815e-20,   2.34429586e-01,\n",
       "         2.03287907e-20,   0.00000000e+00,   1.01643954e-20,\n",
       "         1.98744504e-03,   1.14605520e-03,   1.75078944e-06,\n",
       "         9.27501077e-20,   1.08420217e-19,   1.07149668e-19,\n",
       "         0.00000000e+00,   1.66253994e-04,   0.00000000e+00,\n",
       "         1.16060808e-04,   3.08860314e-04,   0.00000000e+00,\n",
       "         7.45388994e-20,   0.00000000e+00,   1.46113183e-19,\n",
       "         0.00000000e+00,   0.00000000e+00,   5.31604202e-03,\n",
       "         0.00000000e+00,   0.00000000e+00,   9.40206571e-20,\n",
       "         9.86109462e-04,   1.28749008e-19,   0.00000000e+00,\n",
       "         0.00000000e+00,   0.00000000e+00,   0.00000000e+00,\n",
       "         0.00000000e+00,   6.34820044e-05,   0.00000000e+00,\n",
       "         2.71050543e-20,   0.00000000e+00,   7.34312407e-05,\n",
       "         0.00000000e+00,   4.74338450e-20,   1.87384150e-05,\n",
       "         3.88873524e-04,   0.00000000e+00,   0.00000000e+00,\n",
       "         0.00000000e+00,   0.00000000e+00,   0.00000000e+00,\n",
       "         0.00000000e+00,   1.62212817e-04,   0.00000000e+00,\n",
       "         0.00000000e+00,   4.61632956e-20,   1.92976056e-03,\n",
       "         6.93170401e-03,   3.35911141e-04,   3.38813179e-20,\n",
       "         1.43433354e-04,   3.99799551e-19,   0.00000000e+00,\n",
       "         1.41835555e-04,   5.23527826e-04,   2.14638963e-06,\n",
       "         4.74338450e-20,   9.59800257e-05,   1.55646350e-05,\n",
       "         1.52465931e-19,   1.69406589e-19,   1.05879118e-20,\n",
       "         0.00000000e+00,   1.95765301e-04,   1.80848164e-03,\n",
       "         9.16116208e-04,   1.33669711e-05,   2.27526100e-03,\n",
       "         8.04681300e-21,   0.00000000e+00,   2.34429586e-01,\n",
       "         0.00000000e+00,   0.00000000e+00,   4.06575815e-20,\n",
       "         2.51187357e-04,   5.66820119e-05,   4.23516474e-20,\n",
       "         0.00000000e+00,   0.00000000e+00,   0.00000000e+00,\n",
       "         4.83172454e-04,   0.00000000e+00,   7.85125445e-04,\n",
       "         1.37530723e-04,   1.10517375e-04,   3.48785730e-04,\n",
       "         2.71050543e-20,   9.27501077e-20,   0.00000000e+00,\n",
       "         2.71050543e-19,   0.00000000e+00,   0.00000000e+00,\n",
       "         1.82112084e-20,   1.04741452e-04,   0.00000000e+00,\n",
       "         7.45388994e-20])"
      ]
     },
     "execution_count": 82,
     "metadata": {},
     "output_type": "execute_result"
    }
   ],
   "source": [
    "optv"
   ]
  },
  {
   "cell_type": "code",
   "execution_count": 88,
   "metadata": {},
   "outputs": [
    {
     "data": {
      "text/plain": [
       "array([  2.22818247e-01,   3.41863908e-03,   6.51774703e+01])"
      ]
     },
     "execution_count": 88,
     "metadata": {},
     "output_type": "execute_result"
    }
   ],
   "source": [
    "roptv = optv['x'].round(3)\n",
    "roptv = roptv / np.sum(roptv)\n",
    "\n",
    "statistics(roptv)"
   ]
  },
  {
   "cell_type": "markdown",
   "metadata": {},
   "source": [
    "### Efficient Frontier"
   ]
  },
  {
   "cell_type": "code",
   "execution_count": 95,
   "metadata": {
    "collapsed": true
   },
   "outputs": [],
   "source": [
    "cons = ({'type': 'eq', 'fun': lambda x: statistics(x)[0] - tret},\n",
    "       {'type': 'eq', 'fun': lambda x: np.sum(x) -1})\n",
    "bnds = tuple((0, 1) for x in weights)"
   ]
  },
  {
   "cell_type": "code",
   "execution_count": null,
   "metadata": {},
   "outputs": [],
   "source": [
    "trets = np.linspace(0.0, 0.25, 50)\n",
    "tvols = []\n",
    "for tret in trets:\n",
    "    cons = ({'type': 'eq', 'fun': lambda x: statistics(x)[0] - tret},\n",
    "            {'type': 'eq', 'fun': lambda x: np.sum(x) -1})\n",
    "    res = sco.minimize(min_func_port, noa * [1. / noa,], method='SLSQP',\n",
    "                       bounds=bnds, constraints=cons)\n",
    "    tvols.append(res['fun'])\n",
    "tvols = np.array(tvols)"
   ]
  },
  {
   "cell_type": "code",
   "execution_count": null,
   "metadata": {
    "collapsed": true
   },
   "outputs": [],
   "source": [
    "plt.figure(figsize=(8,4))\n",
    "plt.scatter(pvols, prets, c=prets / pvols, marker='o')\n",
    "plt.scatter(tvols, trets, c=trets /tvols, marker = 'x')\n",
    "plt.plot(statistics(ropts['x'])[1], statistics(ropts['x'][0]), 'r*', markersize=15.0)\n",
    "plt.plot(statistics(roptv['x'])[1], statistics(roptv['x'][0]), 'r*', markersize=15.0)\n",
    "\n",
    "plt.grid(True)\n",
    "plt.xlabel('Expected Vol')\n",
    "plt.ylabel('expected return')\n",
    "plt.colorbar(label='Sharpe ratio')"
   ]
  },
  {
   "cell_type": "code",
   "execution_count": null,
   "metadata": {
    "collapsed": true
   },
   "outputs": [],
   "source": []
  }
 ],
 "metadata": {
  "kernelspec": {
   "display_name": "Python 2",
   "language": "python",
   "name": "python2"
  },
  "language_info": {
   "codemirror_mode": {
    "name": "ipython",
    "version": 2
   },
   "file_extension": ".py",
   "mimetype": "text/x-python",
   "name": "python",
   "nbconvert_exporter": "python",
   "pygments_lexer": "ipython2",
   "version": "2.7.13"
  }
 },
 "nbformat": 4,
 "nbformat_minor": 2
}
